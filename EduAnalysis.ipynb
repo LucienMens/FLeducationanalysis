{
 "cells": [
  {
   "cell_type": "code",
   "execution_count": 17,
   "metadata": {
    "scrolled": true
   },
   "outputs": [],
   "source": [
    "import pandas as pd\n",
    "import numpy as np\n",
    "import matplotlib.pyplot as plt\n",
    "from sklearn.linear_model import LinearRegression\n",
    "'''\n",
    "This is an analysis of women's education rates in Pinellas, Pasco, and Hillsborough Counties. \n",
    "These are all neighbouring counties in Florida, with their notable cities being St. Petersburg, \n",
    "New Port Richey, and Tampa, respectively. This will begin with analysis of the rates and age ranges of\n",
    "women's education rates within the state. Then I will move into more complex stastical analysis with \n",
    "linear progression to (hopefully) predict the chances of an assigned woman being born in a particular \n",
    "county and the rates that they might get each type of degree.\n",
    "'''"
   ]
  },
  {
   "cell_type": "code",
   "execution_count": 18,
   "metadata": {},
   "outputs": [],
   "source": [
    "fl = pd.read_csv(\"womensdata.csv\")"
   ]
  },
  {
   "cell_type": "code",
   "execution_count": 22,
   "metadata": {},
   "outputs": [
    {
     "name": "stdout",
     "output_type": "stream",
     "text": [
      "(3, 42)\n",
      "     Unnamed: 0  Tot_Pop_Women  18to24  18to24_noHS  18to24_noHSdiploma  \\\n",
      "0  Hillsborough         519960   64777         1105                7644   \n",
      "1         Pasco         198147   16934          177                2219   \n",
      "2      Pinellas         406238   33408          506                4145   \n",
      "\n",
      "   18to24_HSdiploma  18to24_noCGdeg  18to24_assodeg  18to24_bachdeg  \\\n",
      "0             16897           25998            5308            6967   \n",
      "1              5812            5856            1821             971   \n",
      "2             10017           11570            3515            3452   \n",
      "\n",
      "   18to24_graddeg  ...  45to64_bachdeg  45to64_graddeg     65+  65+_noHS  \\\n",
      "0             858  ...           32045           18200   93502      9415   \n",
      "1              78  ...            9268            5024   57276      3439   \n",
      "2             203  ...           28196           14637  118066      5859   \n",
      "\n",
      "   65+_noHSdipl  65+_HSdipl  65+_noCGdeg  65+_assodeg  65+_bachdeg  \\\n",
      "0          9516       34828        17850         5222         9738   \n",
      "1          6597       25749        10997         3307         4298   \n",
      "2         10120       45399        25570         7632        14034   \n",
      "\n",
      "   65+_graddeg  \n",
      "0         6933  \n",
      "1         2889  \n",
      "2         9452  \n",
      "\n",
      "[3 rows x 42 columns]\n"
     ]
    }
   ],
   "source": [
    "print(fl.shape)\n",
    "print(fl)"
   ]
  },
  {
   "cell_type": "code",
   "execution_count": 15,
   "metadata": {},
   "outputs": [
    {
     "name": "stdout",
     "output_type": "stream",
     "text": [
      "The total population of women in Pinellas, Pasco, and Hillsborough Counties are: 1124345\n"
     ]
    }
   ],
   "source": [
    "totpop = sum(fl['Tot_Pop_Women'])\n",
    "print(\"The total population of women in Pinellas, Pasco, and Hillsborough Counties are:\",totpop)"
   ]
  },
  {
   "cell_type": "code",
   "execution_count": 32,
   "metadata": {},
   "outputs": [],
   "source": [
    "#linear regression?\n",
    "#I want to predict the chances of someone being born in any of these counties and what age they'd likely get each degree?\n",
    "x = np.array(fl['18to24_bachdeg']).reshape((-1, 1))\n",
    "y = np.array(fl['18to24'])"
   ]
  },
  {
   "cell_type": "code",
   "execution_count": 33,
   "metadata": {},
   "outputs": [
    {
     "name": "stdout",
     "output_type": "stream",
     "text": [
      "coefficient of determination: 0.9938329098265264\n"
     ]
    }
   ],
   "source": [
    "model = LinearRegression().fit(x, y)\n",
    "r_sq = model.score(x, y)\n",
    "print('coefficient of determination:', r_sq)"
   ]
  },
  {
   "cell_type": "code",
   "execution_count": 34,
   "metadata": {},
   "outputs": [
    {
     "name": "stdout",
     "output_type": "stream",
     "text": [
      "predicted response:\n",
      "[63869.54316753 15648.34471337 35601.1121191 ]\n"
     ]
    }
   ],
   "source": [
    "y_pred = model.predict(x) #this model is predicting the likelyhood of that percentage of the population having a bachelor's degree\n",
    "print('predicted response:', y_pred, sep='\\n')"
   ]
  },
  {
   "cell_type": "code",
   "execution_count": 35,
   "metadata": {},
   "outputs": [
    {
     "name": "stdout",
     "output_type": "stream",
     "text": [
      "predicted response:\n",
      "[63869.54316753 15648.34471337 35601.1121191 ]\n"
     ]
    }
   ],
   "source": [
    "y_pred = model.intercept_ + np.sum(model.coef_ * x, axis=1)\n",
    "print('predicted response:', y_pred, sep='\\n')"
   ]
  },
  {
   "cell_type": "code",
   "execution_count": null,
   "metadata": {},
   "outputs": [],
   "source": []
  }
 ],
 "metadata": {
  "kernelspec": {
   "display_name": "Python 3",
   "language": "python",
   "name": "python3"
  },
  "language_info": {
   "codemirror_mode": {
    "name": "ipython",
    "version": 3
   },
   "file_extension": ".py",
   "mimetype": "text/x-python",
   "name": "python",
   "nbconvert_exporter": "python",
   "pygments_lexer": "ipython3",
   "version": "3.6.11"
  }
 },
 "nbformat": 4,
 "nbformat_minor": 4
}
